{
 "cells": [
  {
   "cell_type": "markdown",
   "id": "39689355",
   "metadata": {},
   "source": [
    "# Assumptions:\n",
    "\n",
    "- Gender 2/3 Men 1/3 Women \n",
    "- Age Distribution\n",
    "  - male:\n",
    "  - ['18-24', '25-34', '35-44', '45-54', '55+']\n",
    "  - [0.225, 0.545, 0.17, 0.05 , 0.01]\n",
    "  - female:\n",
    "  - ['18-24', '25-34', '35-44', '45-54', '55+']\n",
    "  - [0.355, 0.49, 0.125, 0.025, 0.005]"
   ]
  },
  {
   "cell_type": "code",
   "execution_count": 6,
   "id": "82a49110",
   "metadata": {},
   "outputs": [],
   "source": [
    "import random\n",
    "import numpy as np\n",
    "import pandas as pd\n",
    "\n",
    "# Constants\n",
    "SEED = random.randint(0, 1000000)\n",
    "NUM_AGENTS = 1000\n",
    "SIM_DAYS = 31\n",
    "CYCLES_PER_DAY = 3\n",
    "TOTAL_CYCLES = SIM_DAYS * CYCLES_PER_DAY\n",
    "\n",
    "MOTIVES = ['Amusement', 'Ego-Boost', 'Affair', 'Relationship']\n",
    "GENDERS = ['Male', 'Female']\n",
    "HAIR_COLORS = ['Blonde', 'Brown', 'Black', 'Red', 'Other']\n",
    "EYE_COLORS = ['Blue', 'Brown', 'Green', 'Gray', 'Other']\n"
   ]
  },
  {
   "cell_type": "code",
   "execution_count": 7,
   "id": "94d8b5a3",
   "metadata": {},
   "outputs": [],
   "source": [
    "class Agent:\n",
    "    def __init__(self, agent_id, gender, age, motive):\n",
    "        self.id = agent_id\n",
    "        self.gender = gender\n",
    "        self.age = age \n",
    "        self.motive = motive\n",
    "        self.hair_color = random.choice(HAIR_COLORS)\n",
    "        self.eye_color = random.choice(EYE_COLORS)\n",
    "        self.expected_happiness = 0.5\n",
    "        self.pickiness = np.clip(np.random.normal(0.5, 0.15), 0, 1)\n",
    "        self.likes_given = 0\n",
    "        self.matches = set()\n",
    "        self.messages_sent = 0\n",
    "\n",
    "    def like_probability(self, other):\n",
    "        # Simple base probability based on pickiness\n",
    "        return self.pickiness\n",
    "\n",
    "    def send_message_probability(self):\n",
    "        return 0.5 "
   ]
  },
  {
   "cell_type": "code",
   "execution_count": 8,
   "id": "5465c591",
   "metadata": {},
   "outputs": [],
   "source": [
    "class Simulation:\n",
    "    def __init__(self):\n",
    "        male_age_cats = ['18-24', '25-34', '35-44', '45-54', '55+']\n",
    "        male_age_probs = [0.225, 0.545, 0.17, 0.05 , 0.01]\n",
    "        female_age_cats = ['18-24', '25-34', '35-44', '45-54', '55+']\n",
    "        female_age_probs = [0.355, 0.49, 0.125, 0.025, 0.005]\n",
    "\n",
    "        self.agents = []\n",
    "        for i in range(NUM_AGENTS):\n",
    "            # assign gender with 2/3 chance male\n",
    "            gender = 'Male' if random.random() < 2/3 else 'Female'\n",
    "            # sample age category based on gender distribution\n",
    "            if gender == 'Male':\n",
    "                age = np.random.choice(male_age_cats, p=male_age_probs)\n",
    "            else:\n",
    "                age = np.random.choice(female_age_cats, p=female_age_probs)\n",
    "            # random motive\n",
    "            motive = random.choice(MOTIVES)\n",
    "            self.agents.append(Agent(i, gender, age, motive))\n",
    "        self.likes = []\n",
    "        self.matches = []\n",
    "        self.proposals = 0\n",
    "\n",
    "    def run(self):\n",
    "        for _ in range(TOTAL_CYCLES):\n",
    "            random.shuffle(self.agents)\n",
    "            for agent in self.agents:\n",
    "\n",
    "                # Is user Online?\n",
    "                if random.random() > 0.5:\n",
    "                    continue\n",
    "\n",
    "                # Does User have Matches?\n",
    "                if agent.matches:\n",
    "                    for match_id in agent.matches:\n",
    "                        if random.random() < agent.send_message_probability():\n",
    "                            agent.messages_sent += 1\n",
    "\n",
    "                # Matching logic\n",
    "                candidates = [a for a in self.agents\n",
    "                              if a.gender != agent.gender and a.id != agent.id]\n",
    "                candidate = random.choice(candidates)\n",
    "                self.proposals += 1\n",
    "                if random.random() < agent.like_probability(candidate):\n",
    "                    agent.likes_given += 1\n",
    "                    self.likes.append((agent.id, candidate.id))\n",
    "                    if random.random() < candidate.like_probability(agent):\n",
    "                        agent.matches.add(candidate.id)\n",
    "                        candidate.matches.add(agent.id)\n",
    "                        self.matches.append((agent.id, candidate.id))\n",
    "                        agent.expected_happiness += 0.02\n",
    "                        candidate.expected_happiness += 0.02\n",
    "                    else:\n",
    "                        agent.expected_happiness -= 0.04\n",
    "                        \n",
    "    def metrics(self):\n",
    "        total_matches = len(self.matches)\n",
    "        total_likes = len(self.likes)\n",
    "        # Matches/Like\n",
    "        match_quote = (total_matches / total_likes * 100)\n",
    "        # Average expected happiness\n",
    "        avg_happiness = np.mean([a.expected_happiness for a in self.agents]) * 100\n",
    "        return match_quote, avg_happiness, total_matches, total_likes"
   ]
  },
  {
   "cell_type": "code",
   "execution_count": 9,
   "id": "b2dc9ef6",
   "metadata": {},
   "outputs": [
    {
     "name": "stdout",
     "output_type": "stream",
     "text": [
      "   Match-Quote (%)  Expected Happiness (%)  Total Matches  Total Likes\n",
      "0             51.0                    51.9          11893        23321\n"
     ]
    }
   ],
   "source": [
    "random.seed(SEED)\n",
    "np.random.seed(SEED)\n",
    "sim = Simulation()\n",
    "sim.run()\n",
    "mq, eh, tm, tl = sim.metrics()\n",
    "df_results = pd.DataFrame([{\n",
    "    'Match-Quote (%)': round(mq, 1),\n",
    "    'Expected Happiness (%)': round(eh, 1),\n",
    "    'Total Matches': round(tm, 1),\n",
    "    'Total Likes': round(tl, 1)\n",
    "}])\n",
    "print(df_results)"
   ]
  }
 ],
 "metadata": {
  "kernelspec": {
   "display_name": "base",
   "language": "python",
   "name": "python3"
  },
  "language_info": {
   "codemirror_mode": {
    "name": "ipython",
    "version": 3
   },
   "file_extension": ".py",
   "mimetype": "text/x-python",
   "name": "python",
   "nbconvert_exporter": "python",
   "pygments_lexer": "ipython3",
   "version": "3.12.2"
  }
 },
 "nbformat": 4,
 "nbformat_minor": 5
}
