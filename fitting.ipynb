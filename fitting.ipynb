{
 "cells": [
  {
   "cell_type": "code",
   "execution_count": 12,
   "id": "0b00b856",
   "metadata": {},
   "outputs": [],
   "source": [
    "import pandas as pd\n",
    "import numpy as np\n",
    "\n",
    "# Anzeigeoptionen anpassen\n",
    "pd.set_option('display.max_rows', None)    # zeigt alle Zeilen\n",
    "pd.set_option('display.max_columns', None) # zeigt alle Spalten\n",
    "pd.set_option('display.width', None)       # keine Begrenzung der Zeilenbreite\n",
    "pd.set_option('display.max_colwidth', None)  # keine Begrenzung der Spaltenbreite\n"
   ]
  },
  {
   "cell_type": "markdown",
   "id": "19091af7",
   "metadata": {},
   "source": [
    "## Fitting Test XGB RF LM"
   ]
  },
  {
   "cell_type": "code",
   "execution_count": 16,
   "id": "4fcaaca9",
   "metadata": {},
   "outputs": [],
   "source": [
    "from sklearn.model_selection import train_test_split\n",
    "from sklearn.model_selection import GroupShuffleSplit\n",
    "# Train Test Split\n",
    "# importiere df_preprocessed.csv\n",
    "df_extended = pd.read_csv('data/df_preprocessed.csv')\n",
    "\n",
    "# 1) Features und Ziel definieren\n",
    "X = df_extended.drop(columns=['match'])\n",
    "y = df_extended['match']\n",
    "\n",
    "# 2) Split mit Gruppen\n",
    "gss = GroupShuffleSplit(\n",
    "    n_splits=1,\n",
    "    test_size=0.2,\n",
    "    random_state=42\n",
    ")\n",
    "train_idx, test_idx = next(\n",
    "    gss.split(X, y, groups=df_extended['pair_index'])\n",
    ")\n",
    "\n",
    "# 3) Train/Test aufteilen\n",
    "X_train, X_test = X.iloc[train_idx], X.iloc[test_idx]\n",
    "y_train, y_test = y.iloc[train_idx], y.iloc[test_idx]"
   ]
  },
  {
   "cell_type": "markdown",
   "id": "8bb16a9a",
   "metadata": {},
   "source": [
    "- pf_o: Preference of Partner \n",
    "- attr1_1: Preference Subject\n",
    "- \n",
    "- attr_o: Rating of Partner \n",
    "- attr: Rating Partner\n",
    "- \n",
    "- attr2_1: Perceived Preference Partner \n",
    "- attr3_1: Perceived Ratings\n",
    "\n"
   ]
  },
  {
   "cell_type": "code",
   "execution_count": 17,
   "id": "4275b8b5",
   "metadata": {},
   "outputs": [
    {
     "name": "stdout",
     "output_type": "stream",
     "text": [
      "\n",
      "=== LogisticRegression ===\n",
      "Accuracy   : 0.872\n",
      "F1-Score   : 0.461\n",
      "ROC AUC    : 0.850\n",
      "\n",
      "=== RandomForest ===\n",
      "Accuracy   : 0.875\n",
      "F1-Score   : 0.361\n",
      "ROC AUC    : 0.847\n",
      "\n",
      "=== XGBoost ===\n",
      "Accuracy   : 0.884\n",
      "F1-Score   : 0.548\n",
      "ROC AUC    : 0.867\n",
      "\n",
      "=== KNN ===\n",
      "Accuracy   : 0.850\n",
      "F1-Score   : 0.326\n",
      "ROC AUC    : 0.718\n",
      "\n",
      "=== SVM ===\n",
      "Accuracy   : 0.878\n",
      "F1-Score   : 0.433\n",
      "ROC AUC    : 0.866\n"
     ]
    }
   ],
   "source": [
    "from category_encoders import TargetEncoder\n",
    "from sklearn.compose import ColumnTransformer\n",
    "from sklearn.discriminant_analysis import StandardScaler\n",
    "from sklearn.impute import SimpleImputer\n",
    "from sklearn.model_selection import cross_val_score, cross_validate\n",
    "from sklearn.neighbors import KNeighborsClassifier\n",
    "from sklearn.pipeline       import Pipeline\n",
    "from sklearn.preprocessing import OrdinalEncoder\n",
    "from category_encoders import CountEncoder\n",
    "from sklearn.svm import SVC\n",
    "from xgboost                import XGBClassifier\n",
    "from sklearn.linear_model   import LogisticRegression\n",
    "from sklearn.ensemble       import RandomForestClassifier\n",
    "import joblib\n",
    "from sklearn.metrics import (\n",
    "    accuracy_score, confusion_matrix, precision_score, recall_score,\n",
    "    f1_score, roc_auc_score, classification_report\n",
    ")\n",
    "\n",
    "\n",
    "\n",
    "#Funktion zum Erzeugen des passenden Preprocessors\n",
    "def make_preprocessor(model_name, numeric_features, categorical_features):\n",
    "    cat_encoder = encoding_strategies[model_name]\n",
    "    categorical_pipeline = Pipeline([\n",
    "        (\"imputer\", SimpleImputer(strategy=\"most_frequent\")),\n",
    "        (\"encoder\", cat_encoder)\n",
    "    ])\n",
    "    return ColumnTransformer([\n",
    "        (\"num\", numeric_transformer, numeric_features),\n",
    "        (\"cat\", categorical_pipeline, categorical_features)\n",
    "    ])\n",
    "\n",
    "# Numerische und kategoriale Features ermitteln (unverändert)\n",
    "numeric_features = X.select_dtypes(include=[\"number\"]).columns.tolist()\n",
    "categorical_features = X.select_dtypes(include=[\"object\", \"category\"]).columns.tolist()\n",
    "\n",
    "# Transformer für numerische und kategoriale Daten definieren (unverändert)\n",
    "numeric_transformer = Pipeline(steps=[\n",
    "    (\"imputer\", SimpleImputer(strategy=\"median\")),      # fehlende Werte durch Median ersetzen\n",
    "    (\"scaler\", StandardScaler())                        # Standardisierung\n",
    "])\n",
    "\n",
    "# 2) Encoding-Strategien je Modell festlegen\n",
    "encoding_strategies = {\n",
    "    \"LogisticRegression\":TargetEncoder(handle_unknown=\"ignore\"),\n",
    "    \"RandomForest\":      OrdinalEncoder(handle_unknown=\"use_encoded_value\", unknown_value=-1),\n",
    "    \"XGBoost\":           OrdinalEncoder(handle_unknown=\"use_encoded_value\", unknown_value=-1),\n",
    "    \"KNN\":               CountEncoder(handle_unknown=\"ignore\"),\n",
    "    \"SVM\":               TargetEncoder(handle_unknown=\"ignore\")\n",
    "}\n",
    "\n",
    "models = [\n",
    "    (\"LogisticRegression\", LogisticRegression(random_state=42)),\n",
    "    (\"RandomForest\",       RandomForestClassifier(max_features= 3,random_state=42)),\n",
    "    (\"XGBoost\",            XGBClassifier(random_state=42)),\n",
    "    (\"KNN\",                KNeighborsClassifier()),\n",
    "    (\"SVM\",                SVC(probability=True, random_state=42))\n",
    "]\n",
    "\n",
    "scoring = {\n",
    "    \"Accuracy\":       \"accuracy\",\n",
    "    \"ROC_AUC\":        \"roc_auc_ovo_weighted\",\n",
    "    \"F1\":             \"f1_macro\"\n",
    "}\n",
    "\n",
    "for name, clf in models:\n",
    "    pipe = Pipeline([\n",
    "        (\"preprocessor\", make_preprocessor(name, numeric_features, categorical_features)),\n",
    "        (\"classifier\",   clf)\n",
    "    ])\n",
    "    pipe.fit(X_train, y_train)\n",
    "\n",
    "    # 2) Vorhersagen\n",
    "    y_pred  = pipe.predict(X_test)\n",
    "    y_proba = pipe.predict_proba(X_test)[:, 1] \n",
    "    \n",
    "    # 3) Metriken berechnen\n",
    "    acc   = accuracy_score(y_test, y_pred)\n",
    "    f1    = f1_score(y_test, y_pred)\n",
    "    roc   = roc_auc_score(y_test, y_proba)      # für Binary nur y_proba[:,1]\n",
    "    \n",
    "    # 4) Ausgabe\n",
    "    print(f\"\\n=== {name} ===\")\n",
    "    print(f\"Accuracy   : {acc:.3f}\")\n",
    "    print(f\"F1-Score   : {f1:.3f}\")\n",
    "    print(f\"ROC AUC    : {roc:.3f}\")\n",
    "\n",
    "    \n",
    "    # 5) Modell speichern\n",
    "    filename = f\"model_{name}.pkl\"\n",
    "    joblib.dump(pipe, filename)"
   ]
  },
  {
   "cell_type": "markdown",
   "id": "e21f20f2",
   "metadata": {},
   "source": [
    "CV für Hyperparameter und robuste unbiased Schätzung"
   ]
  },
  {
   "cell_type": "code",
   "execution_count": null,
   "id": "cbc1c94d",
   "metadata": {},
   "outputs": [],
   "source": [
    "    cv_results = cross_validate(\n",
    "        pipe,\n",
    "        X_train, y_train,\n",
    "        cv=5,\n",
    "        scoring=scoring,\n",
    "        return_train_score=False\n",
    "    )\n",
    "    mean_scores = {}\n",
    "    for metric in scoring:\n",
    "        m = cv_results[f\"test_{metric}\"]\n",
    "        mean_scores[metric] = m.mean()\n",
    "        print(f\"  {metric:15s}: {m.mean():.3f} ± {m.std():.3f}\")\n",
    "\n",
    "    overall_avg = np.mean(list(mean_scores.values()))\n",
    "    print(f\"  {'Overall average':15s}: {overall_avg:.3f}\")"
   ]
  },
  {
   "cell_type": "markdown",
   "id": "724c3dc3",
   "metadata": {},
   "source": [
    "## RF Model/Feature Importance"
   ]
  },
  {
   "cell_type": "markdown",
   "id": "78ef6b8f",
   "metadata": {},
   "source": [
    "Sparse Group Lasso"
   ]
  }
 ],
 "metadata": {
  "kernelspec": {
   "display_name": "base",
   "language": "python",
   "name": "python3"
  },
  "language_info": {
   "codemirror_mode": {
    "name": "ipython",
    "version": 3
   },
   "file_extension": ".py",
   "mimetype": "text/x-python",
   "name": "python",
   "nbconvert_exporter": "python",
   "pygments_lexer": "ipython3",
   "version": "3.12.2"
  }
 },
 "nbformat": 4,
 "nbformat_minor": 5
}
