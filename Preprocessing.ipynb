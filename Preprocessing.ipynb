{
 "cells": [
  {
   "cell_type": "code",
   "execution_count": 30,
   "id": "7d7424fa",
   "metadata": {},
   "outputs": [],
   "source": [
    "import pandas as pd\n",
    "\n",
    "# Anzeigeoptionen anpassen\n",
    "pd.set_option('display.max_rows', None)    # zeigt alle Zeilen\n",
    "pd.set_option('display.max_columns', None) # zeigt alle Spalten\n",
    "pd.set_option('display.width', None)       # keine Begrenzung der Zeilenbreite\n",
    "pd.set_option('display.max_colwidth', None)  # keine Begrenzung der Spaltenbreite\n"
   ]
  },
  {
   "cell_type": "code",
   "execution_count": 31,
   "id": "a07439db",
   "metadata": {},
   "outputs": [],
   "source": [
    "df_extended = pd.read_csv('Data/Speed_Dating_Data.csv', encoding='latin1')\n",
    "df = pd.read_csv('data/flat-ui__data-Thu Jun 19 2025.csv', encoding='latin1')"
   ]
  },
  {
   "cell_type": "code",
   "execution_count": 32,
   "id": "98423e44",
   "metadata": {},
   "outputs": [],
   "source": [
    "import numpy as np\n",
    "\n",
    "# Variante A: mit einem kleinen Helfer, der in-place modifiziert und das DF zurückgibt\n",
    "def multiply_wave_cols(df):\n",
    "    # Maske für Zeilen 6–9\n",
    "    mask = df['wave'].between(6, 9)\n",
    "    # Spaltenauswahl: alle, die auf '_1' enden\n",
    "    cols = [\"attr4_1\", \"sinc4_1\", \"intel4_1\", \"fun4_1\", \"amb4_1\", \"shar4_1\", \"attr4_3\", \"sinc4_3\", \"intel4_3\", \"fun4_3\", \"amb4_3\", \"shar4_3\",\n",
    "            \"attr2_3\", \"sinc2_3\", \"intel2_3\", \"fun2_3\", \"amb2_3\", \"shar2_3\"]\n",
    "    # in-place Multiplikation\n",
    "    df.loc[mask, cols] *= 10\n",
    "    return df\n"
   ]
  },
  {
   "cell_type": "code",
   "execution_count": 33,
   "id": "9517ff32",
   "metadata": {},
   "outputs": [],
   "source": [
    "df_extended = multiply_wave_cols(df_extended)"
   ]
  },
  {
   "cell_type": "code",
   "execution_count": 34,
   "id": "d5c30432",
   "metadata": {},
   "outputs": [],
   "source": [
    "\n",
    "df_extended['pair_norm'] = df_extended.apply(\n",
    "    lambda x: tuple(sorted((x['iid'], x['pid']))), axis=1\n",
    ")\n",
    "\n",
    "df_extended['pair_index'] = df_extended.groupby('pair_norm').ngroup()\n"
   ]
  },
  {
   "cell_type": "code",
   "execution_count": 35,
   "id": "e0f7fb42",
   "metadata": {},
   "outputs": [
    {
     "name": "stdout",
     "output_type": "stream",
     "text": [
      "Spalten, die gelöscht werden (mehr als 5% fehlende Werte):\n",
      "['positin1', 'amb_o', 'shar_o', 'undergra', 'mn_sat', 'tuition', 'zipcode', 'income', 'expnum', 'attr4_1', 'sinc4_1', 'intel4_1', 'fun4_1', 'amb4_1', 'shar4_1', 'attr5_1', 'sinc5_1', 'intel5_1', 'fun5_1', 'amb5_1', 'amb', 'shar', 'match_es', 'attr1_s', 'sinc1_s', 'intel1_s', 'fun1_s', 'amb1_s', 'shar1_s', 'attr3_s', 'sinc3_s', 'intel3_s', 'fun3_s', 'amb3_s', 'satis_2', 'length', 'numdat_2', 'attr7_2', 'sinc7_2', 'intel7_2', 'fun7_2', 'amb7_2', 'shar7_2', 'attr1_2', 'sinc1_2', 'intel1_2', 'fun1_2', 'amb1_2', 'shar1_2', 'attr4_2', 'sinc4_2', 'intel4_2', 'fun4_2', 'amb4_2', 'shar4_2', 'attr2_2', 'sinc2_2', 'intel2_2', 'fun2_2', 'amb2_2', 'shar2_2', 'attr3_2', 'sinc3_2', 'intel3_2', 'fun3_2', 'amb3_2', 'attr5_2', 'sinc5_2', 'intel5_2', 'fun5_2', 'amb5_2', 'you_call', 'them_cal', 'date_3', 'numdat_3', 'num_in_3', 'attr1_3', 'sinc1_3', 'intel1_3', 'fun1_3', 'amb1_3', 'shar1_3', 'attr7_3', 'sinc7_3', 'intel7_3', 'fun7_3', 'amb7_3', 'shar7_3', 'attr4_3', 'sinc4_3', 'intel4_3', 'fun4_3', 'amb4_3', 'shar4_3', 'attr2_3', 'sinc2_3', 'intel2_3', 'fun2_3', 'amb2_3', 'shar2_3', 'attr3_3', 'sinc3_3', 'intel3_3', 'fun3_3', 'amb3_3', 'attr5_3', 'sinc5_3', 'intel5_3', 'fun5_3', 'amb5_3']\n"
     ]
    }
   ],
   "source": [
    "from sklearn.model_selection import train_test_split\n",
    "\n",
    "# Spalten entfernen da sie 'Match' determinieren\n",
    "df_extended = df_extended.drop(columns=['iid', 'id', 'idg', 'pid','partner', \"dec\", \"dec_o\", \"pair_norm\"], errors='ignore')\n",
    "\n",
    "# Entferne jede Spalte die mehr als 5% fehlende werte hat \n",
    "threshold = 0.05 * len(df_extended)\n",
    "cols_to_drop = df_extended.columns[df_extended.isnull().sum() >= threshold]\n",
    "print(\"Spalten, die gelöscht werden (mehr als 5% fehlende Werte):\")\n",
    "print(cols_to_drop.tolist())\n",
    "df_extended = df_extended.loc[:, df_extended.isnull().sum() < threshold]\n"
   ]
  },
  {
   "cell_type": "code",
   "execution_count": 36,
   "id": "bb9fce3c",
   "metadata": {},
   "outputs": [
    {
     "data": {
      "text/plain": [
       "Index(['gender', 'condtn', 'wave', 'round', 'position', 'order', 'match',\n",
       "       'int_corr', 'samerace', 'age_o', 'race_o', 'pf_o_att', 'pf_o_sin',\n",
       "       'pf_o_int', 'pf_o_fun', 'pf_o_amb', 'pf_o_sha', 'attr_o', 'sinc_o',\n",
       "       'intel_o', 'fun_o', 'like_o', 'prob_o', 'met_o', 'age', 'field',\n",
       "       'field_cd', 'race', 'imprace', 'imprelig', 'from', 'goal', 'date',\n",
       "       'go_out', 'career', 'career_c', 'sports', 'tvsports', 'exercise',\n",
       "       'dining', 'museums', 'art', 'hiking', 'gaming', 'clubbing', 'reading',\n",
       "       'tv', 'theater', 'movies', 'concerts', 'music', 'shopping', 'yoga',\n",
       "       'exphappy', 'attr1_1', 'sinc1_1', 'intel1_1', 'fun1_1', 'amb1_1',\n",
       "       'shar1_1', 'attr2_1', 'sinc2_1', 'intel2_1', 'fun2_1', 'amb2_1',\n",
       "       'shar2_1', 'attr3_1', 'sinc3_1', 'fun3_1', 'intel3_1', 'amb3_1', 'attr',\n",
       "       'sinc', 'intel', 'fun', 'like', 'prob', 'met', 'pair_index'],\n",
       "      dtype='object')"
      ]
     },
     "execution_count": 36,
     "metadata": {},
     "output_type": "execute_result"
    }
   ],
   "source": [
    "df_extended.columns"
   ]
  },
  {
   "cell_type": "code",
   "execution_count": 37,
   "id": "c1190aa8",
   "metadata": {},
   "outputs": [],
   "source": [
    "# wie speicher ich den df_extended als csv unter data mit dem namen df_preprocessed.csv?\n",
    "df_extended.to_csv('data/df_preprocessed.csv', index=False)"
   ]
  }
 ],
 "metadata": {
  "kernelspec": {
   "display_name": "base",
   "language": "python",
   "name": "python3"
  },
  "language_info": {
   "codemirror_mode": {
    "name": "ipython",
    "version": 3
   },
   "file_extension": ".py",
   "mimetype": "text/x-python",
   "name": "python",
   "nbconvert_exporter": "python",
   "pygments_lexer": "ipython3",
   "version": "3.12.2"
  }
 },
 "nbformat": 4,
 "nbformat_minor": 5
}
